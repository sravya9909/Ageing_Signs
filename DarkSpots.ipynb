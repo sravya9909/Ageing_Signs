{
 "cells": [
  {
   "cell_type": "code",
   "execution_count": 34,
   "id": "fa6bc3ec",
   "metadata": {},
   "outputs": [],
   "source": [
    "import tensorflow as tf\n",
    "import pandas as pd\n",
    "import numpy as np\n",
    "import os\n",
    "import cv2"
   ]
  },
  {
   "cell_type": "code",
   "execution_count": 35,
   "id": "01364ebc",
   "metadata": {},
   "outputs": [],
   "source": [
    "folder_list=os.listdir(\"C:/Signs_of_Aging/Darkspots\")"
   ]
  },
  {
   "cell_type": "code",
   "execution_count": 36,
   "id": "5003332f",
   "metadata": {},
   "outputs": [
    {
     "data": {
      "text/plain": [
       "['DarkSpots', 'NoDarkSpots']"
      ]
     },
     "execution_count": 36,
     "metadata": {},
     "output_type": "execute_result"
    }
   ],
   "source": [
    "folder_list"
   ]
  },
  {
   "cell_type": "code",
   "execution_count": 37,
   "id": "f37cecf1",
   "metadata": {},
   "outputs": [
    {
     "name": "stdout",
     "output_type": "stream",
     "text": [
      "In Folder :  DarkSpots\n",
      "In Folder :  NoDarkSpots\n"
     ]
    }
   ],
   "source": [
    "features_train=[]\n",
    "target_train=[]\n",
    "for folder in folder_list:\n",
    "    ImgNames_list=os.listdir(\"C:/Signs_of_Aging/Darkspots\"+\"/\"+folder)\n",
    "    print(\"In Folder : \",folder)\n",
    "    for imgName in ImgNames_list:\n",
    "        Imgarr=cv2.imread(\"C:/Signs_of_Aging/Darkspots\"+\"/\"+folder+\"/\"+imgName)\n",
    "        # there might be images of size less than 100 by 100 and so error occurs\n",
    "        try:\n",
    "            Imgarr=cv2.resize(Imgarr,(100,100))\n",
    "        except: # we need to write atleast one line of code\n",
    "            pass\n",
    "        else:\n",
    "            features_train.append(Imgarr)\n",
    "            if folder==\"NoDarkSpots\":\n",
    "                target_train.append(0)\n",
    "            else:\n",
    "                target_train.append(1)"
   ]
  },
  {
   "cell_type": "code",
   "execution_count": 38,
   "id": "5009fd42",
   "metadata": {},
   "outputs": [],
   "source": [
    "features_train=np.array(features_train)\n",
    "target_train=np.array(target_train)"
   ]
  },
  {
   "cell_type": "code",
   "execution_count": 39,
   "id": "d6627dd3",
   "metadata": {},
   "outputs": [
    {
     "data": {
      "text/plain": [
       "(287, 100, 100, 3)"
      ]
     },
     "execution_count": 39,
     "metadata": {},
     "output_type": "execute_result"
    }
   ],
   "source": [
    "features_train.shape"
   ]
  },
  {
   "cell_type": "code",
   "execution_count": 40,
   "id": "16de9ba0",
   "metadata": {},
   "outputs": [
    {
     "data": {
      "text/plain": [
       "(287,)"
      ]
     },
     "execution_count": 40,
     "metadata": {},
     "output_type": "execute_result"
    }
   ],
   "source": [
    "target_train.shape"
   ]
  },
  {
   "cell_type": "code",
   "execution_count": 41,
   "id": "1d43ab76",
   "metadata": {},
   "outputs": [
    {
     "data": {
      "text/plain": [
       "4"
      ]
     },
     "execution_count": 41,
     "metadata": {},
     "output_type": "execute_result"
    }
   ],
   "source": [
    "features_train.ndim"
   ]
  },
  {
   "cell_type": "code",
   "execution_count": 42,
   "id": "ce0c0b0c",
   "metadata": {},
   "outputs": [
    {
     "data": {
      "text/plain": [
       "1"
      ]
     },
     "execution_count": 42,
     "metadata": {},
     "output_type": "execute_result"
    }
   ],
   "source": [
    "target_train.ndim"
   ]
  },
  {
   "cell_type": "code",
   "execution_count": 43,
   "id": "b038dc24",
   "metadata": {},
   "outputs": [],
   "source": [
    "def preprocessing(image):\n",
    "    image=cv2.cvtColor(image,cv2.COLOR_BGR2GRAY)\n",
    "    image=image/255\n",
    "    return image"
   ]
  },
  {
   "cell_type": "code",
   "execution_count": 44,
   "id": "c3f17223",
   "metadata": {},
   "outputs": [],
   "source": [
    "features_train=np.array(list(map(preprocessing,features_train)))"
   ]
  },
  {
   "cell_type": "code",
   "execution_count": 45,
   "id": "e62c0136",
   "metadata": {},
   "outputs": [
    {
     "data": {
      "text/plain": [
       "(287, 100, 100)"
      ]
     },
     "execution_count": 45,
     "metadata": {},
     "output_type": "execute_result"
    }
   ],
   "source": [
    "features_train.shape"
   ]
  },
  {
   "cell_type": "code",
   "execution_count": 46,
   "id": "ca41c256",
   "metadata": {},
   "outputs": [],
   "source": [
    "features_train=features_train.reshape(287, 100, 100,1)"
   ]
  },
  {
   "cell_type": "code",
   "execution_count": 47,
   "id": "aefc9e06",
   "metadata": {},
   "outputs": [],
   "source": [
    "from keras.preprocessing.image import ImageDataGenerator"
   ]
  },
  {
   "cell_type": "code",
   "execution_count": 48,
   "id": "7866a588",
   "metadata": {},
   "outputs": [],
   "source": [
    "dataGen=ImageDataGenerator(rotation_range=10,width_shift_range=0.1,height_shift_range=0.1,zoom_range=0.2,shear_range=0.1)"
   ]
  },
  {
   "cell_type": "code",
   "execution_count": 49,
   "id": "c4b9f32f",
   "metadata": {},
   "outputs": [],
   "source": [
    "dataGen.fit(features_train)"
   ]
  },
  {
   "cell_type": "code",
   "execution_count": 50,
   "id": "06bf67ce",
   "metadata": {},
   "outputs": [],
   "source": [
    "batches=dataGen.flow(features_train,target_train,batch_size=5)"
   ]
  },
  {
   "cell_type": "code",
   "execution_count": 51,
   "id": "370005f4",
   "metadata": {},
   "outputs": [
    {
     "data": {
      "text/plain": [
       "58"
      ]
     },
     "execution_count": 51,
     "metadata": {},
     "output_type": "execute_result"
    }
   ],
   "source": [
    "len(batches)"
   ]
  },
  {
   "cell_type": "code",
   "execution_count": 52,
   "id": "ec078787",
   "metadata": {},
   "outputs": [],
   "source": [
    "images,labels=next(batches)"
   ]
  },
  {
   "cell_type": "code",
   "execution_count": 53,
   "id": "651034e9",
   "metadata": {},
   "outputs": [
    {
     "data": {
      "text/plain": [
       "4"
      ]
     },
     "execution_count": 53,
     "metadata": {},
     "output_type": "execute_result"
    }
   ],
   "source": [
    "images.ndim"
   ]
  },
  {
   "cell_type": "code",
   "execution_count": 54,
   "id": "621fc7f0",
   "metadata": {},
   "outputs": [
    {
     "data": {
      "text/plain": [
       "(5,)"
      ]
     },
     "execution_count": 54,
     "metadata": {},
     "output_type": "execute_result"
    }
   ],
   "source": [
    "labels.shape"
   ]
  },
  {
   "cell_type": "code",
   "execution_count": 55,
   "id": "7153561e",
   "metadata": {},
   "outputs": [
    {
     "data": {
      "text/plain": [
       "(5, 100, 100, 1)"
      ]
     },
     "execution_count": 55,
     "metadata": {},
     "output_type": "execute_result"
    }
   ],
   "source": [
    "images.shape"
   ]
  },
  {
   "cell_type": "code",
   "execution_count": 56,
   "id": "98277de2",
   "metadata": {},
   "outputs": [],
   "source": [
    "import matplotlib.pyplot as plt"
   ]
  },
  {
   "cell_type": "code",
   "execution_count": 57,
   "id": "4209b9d4",
   "metadata": {},
   "outputs": [
    {
     "data": {
      "image/png": "[encoded data removed]",
      "text/plain": [
       "<Figure size 720x720 with 5 Axes>"
      ]
     },
     "metadata": {
      "needs_background": "light"
     },
     "output_type": "display_data"
    }
   ],
   "source": [
    "plt.figure(figsize=(10,10))\n",
    "for i in range(5):\n",
    "    plt.subplot(1,5,i+1)\n",
    "    plt.imshow(images[i].reshape(100,100))\n",
    "plt.show()"
   ]
  },
  {
   "cell_type": "code",
   "execution_count": 58,
   "id": "b358fd60",
   "metadata": {},
   "outputs": [
    {
     "data": {
      "text/plain": [
       "(287, 100, 100, 1)"
      ]
     },
     "execution_count": 58,
     "metadata": {},
     "output_type": "execute_result"
    }
   ],
   "source": [
    "features_train.shape"
   ]
  },
  {
   "cell_type": "code",
   "execution_count": 59,
   "id": "f0ba2e60",
   "metadata": {},
   "outputs": [
    {
     "data": {
      "text/plain": [
       "(287,)"
      ]
     },
     "execution_count": 59,
     "metadata": {},
     "output_type": "execute_result"
    }
   ],
   "source": [
    "target_train.shape"
   ]
  },
  {
   "cell_type": "code",
   "execution_count": 60,
   "id": "622b516e",
   "metadata": {},
   "outputs": [],
   "source": [
    "from keras.utils.np_utils import to_categorical"
   ]
  },
  {
   "cell_type": "code",
   "execution_count": 61,
   "id": "893ef697",
   "metadata": {},
   "outputs": [],
   "source": [
    "target_train=to_categorical(target_train)"
   ]
  },
  {
   "cell_type": "code",
   "execution_count": 62,
   "id": "09900a67",
   "metadata": {},
   "outputs": [
    {
     "data": {
      "text/plain": [
       "(287, 2)"
      ]
     },
     "execution_count": 62,
     "metadata": {},
     "output_type": "execute_result"
    }
   ],
   "source": [
    "target_train.shape"
   ]
  },
  {
   "cell_type": "code",
   "execution_count": 63,
   "id": "e75893f8",
   "metadata": {},
   "outputs": [],
   "source": [
    "from keras.layers import Dense,Flatten,Conv2D,MaxPooling2D,Dropout\n",
    "from keras.models import Sequential"
   ]
  },
  {
   "cell_type": "code",
   "execution_count": 64,
   "id": "79cca080",
   "metadata": {},
   "outputs": [],
   "source": [
    "model=Sequential()\n",
    "model.add(Conv2D(100,(3,3),activation=\"relu\",input_shape=(100,100,1)))\n",
    "model.add(Conv2D(100,(3,3),activation=\"relu\"))\n",
    "model.add(MaxPooling2D(2,2))\n",
    "model.add(Conv2D(50,(3,3),activation=\"relu\"))\n",
    "model.add(Conv2D(50,(3,3),activation=\"relu\"))\n",
    "model.add(Conv2D(50,(3,3),activation=\"relu\"))\n",
    "model.add(MaxPooling2D(2,2))\n",
    "\n",
    "#model.add(Dropout(0.5)) # for overfitting model\n",
    "\n",
    "model.add(Flatten())\n",
    "model.add(Dense(500,activation=\"relu\"))\n",
    "model.add(Dense(2,activation=\"softmax\")) "
   ]
  },
  {
   "cell_type": "code",
   "execution_count": 65,
   "id": "d3f12962",
   "metadata": {},
   "outputs": [],
   "source": [
    "from tensorflow.keras.optimizers import Adam"
   ]
  },
  {
   "cell_type": "code",
   "execution_count": 66,
   "id": "57c999b7",
   "metadata": {},
   "outputs": [],
   "source": [
    "model.compile(Adam(learning_rate=0.0001),loss=\"categorical_crossentropy\",metrics=[\"accuracy\"])"
   ]
  },
  {
   "cell_type": "code",
   "execution_count": 67,
   "id": "70218a07",
   "metadata": {},
   "outputs": [
    {
     "name": "stdout",
     "output_type": "stream",
     "text": [
      "Epoch 1/50\n",
      "58/58 [==============================] - 36s 567ms/step - loss: 0.2943 - accuracy: 0.9443\n",
      "Epoch 2/50\n",
      "58/58 [==============================] - 41s 715ms/step - loss: 0.2721 - accuracy: 0.9443\n",
      "Epoch 3/50\n",
      "58/58 [==============================] - 45s 783ms/step - loss: 0.3631 - accuracy: 0.9443\n",
      "Epoch 4/50\n",
      "58/58 [==============================] - 43s 744ms/step - loss: 0.2960 - accuracy: 0.9443\n",
      "Epoch 5/50\n",
      "58/58 [==============================] - 40s 686ms/step - loss: 0.2278 - accuracy: 0.9443\n",
      "Epoch 6/50\n",
      "58/58 [==============================] - 40s 684ms/step - loss: 0.2456 - accuracy: 0.9443\n",
      "Epoch 7/50\n",
      "58/58 [==============================] - 40s 695ms/step - loss: 0.2041 - accuracy: 0.9443\n",
      "Epoch 8/50\n",
      "58/58 [==============================] - 40s 696ms/step - loss: 0.2211 - accuracy: 0.9443\n",
      "Epoch 9/50\n",
      "58/58 [==============================] - 41s 705ms/step - loss: 0.2020 - accuracy: 0.9443\n",
      "Epoch 10/50\n",
      "58/58 [==============================] - 41s 698ms/step - loss: 0.1725 - accuracy: 0.9443\n",
      "Epoch 11/50\n",
      "58/58 [==============================] - 42s 719ms/step - loss: 0.1834 - accuracy: 0.9443\n",
      "Epoch 12/50\n",
      "58/58 [==============================] - 42s 729ms/step - loss: 0.1543 - accuracy: 0.9443\n",
      "Epoch 13/50\n",
      "58/58 [==============================] - 43s 743ms/step - loss: 0.1740 - accuracy: 0.9443\n",
      "Epoch 14/50\n",
      "58/58 [==============================] - 43s 733ms/step - loss: 0.1687 - accuracy: 0.9443\n",
      "Epoch 15/50\n",
      "58/58 [==============================] - 43s 738ms/step - loss: 0.1572 - accuracy: 0.9443\n",
      "Epoch 16/50\n",
      "58/58 [==============================] - 42s 729ms/step - loss: 0.1595 - accuracy: 0.9443\n",
      "Epoch 17/50\n",
      "58/58 [==============================] - 43s 735ms/step - loss: 0.1693 - accuracy: 0.9443\n",
      "Epoch 18/50\n",
      "58/58 [==============================] - 42s 724ms/step - loss: 0.1693 - accuracy: 0.9443\n",
      "Epoch 19/50\n",
      "58/58 [==============================] - 42s 730ms/step - loss: 0.1217 - accuracy: 0.9477\n",
      "Epoch 20/50\n",
      "58/58 [==============================] - 42s 718ms/step - loss: 0.1301 - accuracy: 0.9477\n",
      "Epoch 21/50\n",
      "58/58 [==============================] - 42s 716ms/step - loss: 0.1301 - accuracy: 0.9547\n",
      "Epoch 22/50\n",
      "58/58 [==============================] - 41s 715ms/step - loss: 0.1160 - accuracy: 0.9547\n",
      "Epoch 23/50\n",
      "58/58 [==============================] - 42s 715ms/step - loss: 0.0980 - accuracy: 0.9652\n",
      "Epoch 24/50\n",
      "58/58 [==============================] - 41s 701ms/step - loss: 0.1002 - accuracy: 0.9582\n",
      "Epoch 25/50\n",
      "58/58 [==============================] - 41s 709ms/step - loss: 0.1167 - accuracy: 0.9547\n",
      "Epoch 26/50\n",
      "58/58 [==============================] - 40s 693ms/step - loss: 0.0980 - accuracy: 0.9617\n",
      "Epoch 27/50\n",
      "58/58 [==============================] - 40s 696ms/step - loss: 0.1050 - accuracy: 0.9617\n",
      "Epoch 28/50\n",
      "58/58 [==============================] - 40s 690ms/step - loss: 0.0797 - accuracy: 0.9617\n",
      "Epoch 29/50\n",
      "58/58 [==============================] - 40s 681ms/step - loss: 0.0816 - accuracy: 0.9686\n",
      "Epoch 30/50\n",
      "58/58 [==============================] - 41s 713ms/step - loss: 0.1019 - accuracy: 0.9721\n",
      "Epoch 31/50\n",
      "58/58 [==============================] - 40s 692ms/step - loss: 0.0690 - accuracy: 0.9582\n",
      "Epoch 32/50\n",
      "58/58 [==============================] - 40s 686ms/step - loss: 0.0982 - accuracy: 0.9547\n",
      "Epoch 33/50\n",
      "58/58 [==============================] - 40s 680ms/step - loss: 0.0680 - accuracy: 0.9721\n",
      "Epoch 34/50\n",
      "58/58 [==============================] - 41s 700ms/step - loss: 0.0686 - accuracy: 0.9756\n",
      "Epoch 35/50\n",
      "58/58 [==============================] - 41s 713ms/step - loss: 0.0722 - accuracy: 0.9756\n",
      "Epoch 36/50\n",
      "58/58 [==============================] - 40s 697ms/step - loss: 0.0721 - accuracy: 0.9547\n",
      "Epoch 37/50\n",
      "58/58 [==============================] - 41s 702ms/step - loss: 0.0768 - accuracy: 0.9652\n",
      "Epoch 38/50\n",
      "58/58 [==============================] - 40s 695ms/step - loss: 0.0447 - accuracy: 0.9861\n",
      "Epoch 39/50\n",
      "58/58 [==============================] - 40s 686ms/step - loss: 0.0706 - accuracy: 0.9756\n",
      "Epoch 40/50\n",
      "58/58 [==============================] - 41s 711ms/step - loss: 0.0746 - accuracy: 0.9686\n",
      "Epoch 41/50\n",
      "58/58 [==============================] - 32s 541ms/step - loss: 0.0595 - accuracy: 0.9756\n",
      "Epoch 42/50\n",
      "58/58 [==============================] - 28s 480ms/step - loss: 0.0368 - accuracy: 0.9861\n",
      "Epoch 43/50\n",
      "58/58 [==============================] - 29s 494ms/step - loss: 0.0519 - accuracy: 0.9756\n",
      "Epoch 44/50\n",
      "58/58 [==============================] - 29s 493ms/step - loss: 0.0596 - accuracy: 0.9861\n",
      "Epoch 45/50\n",
      "58/58 [==============================] - 30s 523ms/step - loss: 0.0652 - accuracy: 0.9686\n",
      "Epoch 46/50\n",
      "58/58 [==============================] - 28s 477ms/step - loss: 0.0301 - accuracy: 0.9895\n",
      "Epoch 47/50\n",
      "58/58 [==============================] - 29s 494ms/step - loss: 0.0241 - accuracy: 0.9895\n",
      "Epoch 48/50\n",
      "58/58 [==============================] - 29s 502ms/step - loss: 0.0589 - accuracy: 0.9721\n",
      "Epoch 49/50\n",
      "58/58 [==============================] - 28s 491ms/step - loss: 0.0251 - accuracy: 0.9895\n",
      "Epoch 50/50\n",
      "58/58 [==============================] - 29s 504ms/step - loss: 0.0347 - accuracy: 0.9861\n"
     ]
    },
    {
     "data": {
      "text/plain": [
       "<keras.callbacks.History at 0x1a898fef070>"
      ]
     },
     "execution_count": 67,
     "metadata": {},
     "output_type": "execute_result"
    }
   ],
   "source": [
    "model.fit(dataGen.flow(features_train,target_train,batch_size=5),epochs=50)"
   ]
  },
  {
   "cell_type": "code",
   "execution_count": 68,
   "id": "f6be8adf",
   "metadata": {},
   "outputs": [
    {
     "name": "stdout",
     "output_type": "stream",
     "text": [
      "Save the Model\n"
     ]
    }
   ],
   "source": [
    "model_json=model.to_json() # converted to json file\n",
    "with open(\"DarkSpots.json\",\"w\") as abc:\n",
    "    abc.write(model_json)\n",
    "    abc.close()\n",
    "model.save_weights(\"DarkSpotsWeights.h5\") # saving weights as hdf 5 file\n",
    "print(\"Save the Model\")"
   ]
  },
  {
   "cell_type": "code",
   "execution_count": 69,
   "id": "fda43b87",
   "metadata": {},
   "outputs": [
    {
     "name": "stdout",
     "output_type": "stream",
     "text": [
      "Loaded model successfully\n"
     ]
    }
   ],
   "source": [
    "from keras.models import model_from_json\n",
    "json_file=open(\"DarkSpots.json\",\"r\")\n",
    "loaded_model_json=json_file.read()\n",
    "json_file.close()\n",
    "loaded_model=model_from_json(loaded_model_json)\n",
    "loaded_model.load_weights(\"DarkSpotsWeights.h5\")\n",
    "print(\"Loaded model successfully\")"
   ]
  },
  {
   "cell_type": "code",
   "execution_count": 70,
   "id": "93b545bc",
   "metadata": {},
   "outputs": [],
   "source": [
    "def getClassName(classNo):\n",
    "    if classNo == 0: return \"No Dark Spots\"\n",
    "    elif classNo == 1: return \"Dark Spots\""
   ]
  },
  {
   "cell_type": "code",
   "execution_count": null,
   "id": "0c049dd2",
   "metadata": {},
   "outputs": [],
   "source": []
  }
 ],
 "metadata": {
  "kernelspec": {
   "display_name": "Python 3",
   "language": "python",
   "name": "python3"
  },
  "language_info": {
   "codemirror_mode": {
    "name": "ipython",
    "version": 3
   },
   "file_extension": ".py",
   "mimetype": "text/x-python",
   "name": "python",
   "nbconvert_exporter": "python",
   "pygments_lexer": "ipython3",
   "version": "3.8.8"
  }
 },
 "nbformat": 4,
 "nbformat_minor": 5
}
