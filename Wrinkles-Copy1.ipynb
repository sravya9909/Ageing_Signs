{
 "cells": [
  {
   "cell_type": "code",
   "execution_count": 54,
   "id": "2daf454f",
   "metadata": {},
   "outputs": [],
   "source": [
    "import tensorflow as tf\n",
    "import pandas as pd\n",
    "import numpy as np\n",
    "import os\n",
    "import cv2"
   ]
  },
  {
   "cell_type": "code",
   "execution_count": 55,
   "id": "88920378",
   "metadata": {},
   "outputs": [],
   "source": [
    "folder_list=os.listdir(\"C:/Signs_of_Aging/Wrinkles/datasets/train\")"
   ]
  },
  {
   "cell_type": "code",
   "execution_count": 56,
   "id": "c16e2849",
   "metadata": {},
   "outputs": [
    {
     "data": {
      "text/plain": [
       "['NoWrinkles', 'Wrinkled']"
      ]
     },
     "execution_count": 56,
     "metadata": {},
     "output_type": "execute_result"
    }
   ],
   "source": [
    "folder_list"
   ]
  },
  {
   "cell_type": "code",
   "execution_count": 57,
   "id": "b5c48aa7",
   "metadata": {},
   "outputs": [
    {
     "name": "stdout",
     "output_type": "stream",
     "text": [
      "In Folder :  NoWrinkles\n",
      "In Folder :  Wrinkled\n"
     ]
    }
   ],
   "source": [
    "features_train=[]\n",
    "target_train=[]\n",
    "for folder in folder_list:\n",
    "    ImgNames_list=os.listdir(\"C:/Signs_of_Aging/Wrinkles/datasets/train\"+\"/\"+folder)\n",
    "    print(\"In Folder : \",folder)\n",
    "    for imgName in ImgNames_list:\n",
    "        Imgarr=cv2.imread(\"C:/Signs_of_Aging/Wrinkles/datasets/train\"+\"/\"+folder+\"/\"+imgName)\n",
    "        # there might be images of size less than 100 by 100 and so error occurs\n",
    "        try:\n",
    "            Imgarr=cv2.resize(Imgarr,(100,100))\n",
    "        except: # we need to write atleast one line of code\n",
    "            pass\n",
    "        else:\n",
    "            features_train.append(Imgarr)\n",
    "            if folder==\"NoWrinkles\":\n",
    "                target_train.append(0)\n",
    "            else:\n",
    "                target_train.append(1)"
   ]
  },
  {
   "cell_type": "code",
   "execution_count": null,
   "id": "3eaa3ec3",
   "metadata": {},
   "outputs": [],
   "source": []
  },
  {
   "cell_type": "code",
   "execution_count": 58,
   "id": "37b371bb",
   "metadata": {},
   "outputs": [],
   "source": [
    "features_train=np.array(features_train)\n",
    "target_train=np.array(target_train)"
   ]
  },
  {
   "cell_type": "code",
   "execution_count": 59,
   "id": "f23361e8",
   "metadata": {},
   "outputs": [
    {
     "data": {
      "text/plain": [
       "(261, 100, 100, 3)"
      ]
     },
     "execution_count": 59,
     "metadata": {},
     "output_type": "execute_result"
    }
   ],
   "source": [
    "features_train.shape"
   ]
  },
  {
   "cell_type": "code",
   "execution_count": 60,
   "id": "763ae270",
   "metadata": {},
   "outputs": [
    {
     "data": {
      "text/plain": [
       "(261,)"
      ]
     },
     "execution_count": 60,
     "metadata": {},
     "output_type": "execute_result"
    }
   ],
   "source": [
    "target_train.shape"
   ]
  },
  {
   "cell_type": "code",
   "execution_count": 61,
   "id": "3e93afef",
   "metadata": {},
   "outputs": [
    {
     "data": {
      "text/plain": [
       "4"
      ]
     },
     "execution_count": 61,
     "metadata": {},
     "output_type": "execute_result"
    }
   ],
   "source": [
    "features_train.ndim"
   ]
  },
  {
   "cell_type": "code",
   "execution_count": 62,
   "id": "da050e96",
   "metadata": {},
   "outputs": [
    {
     "data": {
      "text/plain": [
       "1"
      ]
     },
     "execution_count": 62,
     "metadata": {},
     "output_type": "execute_result"
    }
   ],
   "source": [
    "target_train.ndim"
   ]
  },
  {
   "cell_type": "code",
   "execution_count": 63,
   "id": "e8fc7cd7",
   "metadata": {},
   "outputs": [],
   "source": [
    "def preprocessing(image):\n",
    "    image=cv2.cvtColor(image,cv2.COLOR_BGR2GRAY)\n",
    "    image=image/255\n",
    "    return image"
   ]
  },
  {
   "cell_type": "code",
   "execution_count": 64,
   "id": "e3ee210a",
   "metadata": {},
   "outputs": [],
   "source": [
    "features_train=np.array(list(map(preprocessing,features_train)))"
   ]
  },
  {
   "cell_type": "code",
   "execution_count": 65,
   "id": "f9669e5d",
   "metadata": {},
   "outputs": [
    {
     "data": {
      "text/plain": [
       "(261, 100, 100)"
      ]
     },
     "execution_count": 65,
     "metadata": {},
     "output_type": "execute_result"
    }
   ],
   "source": [
    "features_train.shape"
   ]
  },
  {
   "cell_type": "code",
   "execution_count": 66,
   "id": "44788fbb",
   "metadata": {},
   "outputs": [],
   "source": [
    "features_train=features_train.reshape(261, 100, 100,1)"
   ]
  },
  {
   "cell_type": "code",
   "execution_count": 67,
   "id": "10c0016f",
   "metadata": {},
   "outputs": [],
   "source": [
    "from keras.preprocessing.image import ImageDataGenerator"
   ]
  },
  {
   "cell_type": "code",
   "execution_count": 68,
   "id": "e0bc156f",
   "metadata": {},
   "outputs": [],
   "source": [
    "dataGen=ImageDataGenerator(rotation_range=10,width_shift_range=0.1,height_shift_range=0.1,zoom_range=0.2,shear_range=0.1)"
   ]
  },
  {
   "cell_type": "code",
   "execution_count": 69,
   "id": "2a4cbbb6",
   "metadata": {},
   "outputs": [],
   "source": [
    "dataGen.fit(features_train)"
   ]
  },
  {
   "cell_type": "code",
   "execution_count": 70,
   "id": "b1cc56a9",
   "metadata": {},
   "outputs": [],
   "source": [
    "batches=dataGen.flow(features_train,target_train,batch_size=5)"
   ]
  },
  {
   "cell_type": "code",
   "execution_count": 71,
   "id": "1ddca28d",
   "metadata": {},
   "outputs": [
    {
     "data": {
      "text/plain": [
       "53"
      ]
     },
     "execution_count": 71,
     "metadata": {},
     "output_type": "execute_result"
    }
   ],
   "source": [
    "len(batches)"
   ]
  },
  {
   "cell_type": "code",
   "execution_count": 72,
   "id": "0821fb4d",
   "metadata": {},
   "outputs": [],
   "source": [
    "images,labels=next(batches)"
   ]
  },
  {
   "cell_type": "code",
   "execution_count": 73,
   "id": "36990703",
   "metadata": {},
   "outputs": [
    {
     "data": {
      "text/plain": [
       "4"
      ]
     },
     "execution_count": 73,
     "metadata": {},
     "output_type": "execute_result"
    }
   ],
   "source": [
    "images.ndim"
   ]
  },
  {
   "cell_type": "code",
   "execution_count": 74,
   "id": "d735cf5c",
   "metadata": {},
   "outputs": [
    {
     "data": {
      "text/plain": [
       "(5,)"
      ]
     },
     "execution_count": 74,
     "metadata": {},
     "output_type": "execute_result"
    }
   ],
   "source": [
    "labels.shape"
   ]
  },
  {
   "cell_type": "code",
   "execution_count": 75,
   "id": "d5d0dc54",
   "metadata": {},
   "outputs": [
    {
     "data": {
      "text/plain": [
       "(5, 100, 100, 1)"
      ]
     },
     "execution_count": 75,
     "metadata": {},
     "output_type": "execute_result"
    }
   ],
   "source": [
    "images.shape"
   ]
  },
  {
   "cell_type": "code",
   "execution_count": 76,
   "id": "7e3f8ed7",
   "metadata": {},
   "outputs": [],
   "source": [
    "import matplotlib.pyplot as plt"
   ]
  },
  {
   "cell_type": "code",
   "execution_count": 77,
   "id": "35ba55fd",
   "metadata": {},
   "outputs": [
    {
     "data": {
      "image/png": "[encoded data removed]",
      "text/plain": [
       "<Figure size 720x720 with 5 Axes>"
      ]
     },
     "metadata": {
      "needs_background": "light"
     },
     "output_type": "display_data"
    }
   ],
   "source": [
    "plt.figure(figsize=(10,10))\n",
    "for i in range(5):\n",
    "    plt.subplot(1,5,i+1)\n",
    "    plt.imshow(images[i].reshape(100,100))\n",
    "plt.show()"
   ]
  },
  {
   "cell_type": "code",
   "execution_count": 78,
   "id": "c7a81c5e",
   "metadata": {},
   "outputs": [
    {
     "data": {
      "text/plain": [
       "(261, 100, 100, 1)"
      ]
     },
     "execution_count": 78,
     "metadata": {},
     "output_type": "execute_result"
    }
   ],
   "source": [
    "features_train.shape"
   ]
  },
  {
   "cell_type": "code",
   "execution_count": 79,
   "id": "bfb3f4d6",
   "metadata": {},
   "outputs": [
    {
     "data": {
      "text/plain": [
       "(261,)"
      ]
     },
     "execution_count": 79,
     "metadata": {},
     "output_type": "execute_result"
    }
   ],
   "source": [
    "target_train.shape"
   ]
  },
  {
   "cell_type": "code",
   "execution_count": 80,
   "id": "47d4b2c9",
   "metadata": {},
   "outputs": [],
   "source": [
    "from keras.utils.np_utils import to_categorical"
   ]
  },
  {
   "cell_type": "code",
   "execution_count": 81,
   "id": "0d1cab7b",
   "metadata": {},
   "outputs": [],
   "source": [
    "target_train=to_categorical(target_train)"
   ]
  },
  {
   "cell_type": "code",
   "execution_count": 82,
   "id": "7ea900ec",
   "metadata": {},
   "outputs": [
    {
     "data": {
      "text/plain": [
       "(261, 2)"
      ]
     },
     "execution_count": 82,
     "metadata": {},
     "output_type": "execute_result"
    }
   ],
   "source": [
    "target_train.shape"
   ]
  },
  {
   "cell_type": "code",
   "execution_count": 83,
   "id": "27421cff",
   "metadata": {},
   "outputs": [],
   "source": [
    "from keras.layers import Dense,Flatten,Conv2D,MaxPooling2D,Dropout\n",
    "from keras.models import Sequential"
   ]
  },
  {
   "cell_type": "code",
   "execution_count": 84,
   "id": "af178e08",
   "metadata": {},
   "outputs": [],
   "source": [
    "model=Sequential()\n",
    "model.add(Conv2D(100,(3,3),activation=\"relu\",input_shape=(100,100,1)))\n",
    "model.add(Conv2D(100,(3,3),activation=\"relu\"))\n",
    "model.add(MaxPooling2D(2,2))\n",
    "model.add(Conv2D(50,(3,3),activation=\"relu\"))\n",
    "model.add(Conv2D(50,(3,3),activation=\"relu\"))\n",
    "model.add(Conv2D(50,(3,3),activation=\"relu\"))\n",
    "model.add(MaxPooling2D(2,2))\n",
    "\n",
    "#model.add(Dropout(0.5)) # for overfitting model\n",
    "\n",
    "model.add(Flatten())\n",
    "model.add(Dense(500,activation=\"relu\"))\n",
    "model.add(Dense(2,activation=\"softmax\")) "
   ]
  },
  {
   "cell_type": "code",
   "execution_count": 86,
   "id": "b7750896",
   "metadata": {},
   "outputs": [],
   "source": [
    "from tensorflow.keras.optimizers import Adam"
   ]
  },
  {
   "cell_type": "code",
   "execution_count": 87,
   "id": "df45189b",
   "metadata": {},
   "outputs": [],
   "source": [
    "model.compile(Adam(learning_rate=0.0001),loss=\"categorical_crossentropy\",metrics=[\"accuracy\"])"
   ]
  },
  {
   "cell_type": "code",
   "execution_count": null,
   "id": "42327e88",
   "metadata": {},
   "outputs": [
    {
     "name": "stdout",
     "output_type": "stream",
     "text": [
      "Epoch 1/50\n",
      "53/53 [==============================] - 11s 192ms/step - loss: 0.6361 - accuracy: 0.7586\n",
      "Epoch 2/50\n",
      "53/53 [==============================] - 11s 208ms/step - loss: 0.6229 - accuracy: 0.7586\n",
      "Epoch 3/50\n",
      "53/53 [==============================] - 13s 236ms/step - loss: 0.5903 - accuracy: 0.7586\n",
      "Epoch 4/50\n",
      "53/53 [==============================] - 12s 232ms/step - loss: 0.5589 - accuracy: 0.7586\n",
      "Epoch 5/50\n",
      "53/53 [==============================] - 12s 228ms/step - loss: 0.5240 - accuracy: 0.7586\n",
      "Epoch 6/50\n",
      "53/53 [==============================] - 17s 326ms/step - loss: 0.5696 - accuracy: 0.7586\n",
      "Epoch 7/50\n",
      "53/53 [==============================] - 33s 617ms/step - loss: 0.5241 - accuracy: 0.7586\n",
      "Epoch 8/50\n",
      "53/53 [==============================] - 38s 710ms/step - loss: 0.5290 - accuracy: 0.7586\n",
      "Epoch 9/50\n",
      "53/53 [==============================] - 40s 758ms/step - loss: 0.5249 - accuracy: 0.7586\n",
      "Epoch 10/50\n",
      "53/53 [==============================] - 39s 741ms/step - loss: 0.5024 - accuracy: 0.7586\n",
      "Epoch 11/50\n",
      "53/53 [==============================] - 37s 690ms/step - loss: 0.5307 - accuracy: 0.7586\n",
      "Epoch 12/50\n",
      "53/53 [==============================] - 36s 684ms/step - loss: 0.4866 - accuracy: 0.7586\n",
      "Epoch 13/50\n",
      "53/53 [==============================] - 37s 691ms/step - loss: 0.4628 - accuracy: 0.7586\n",
      "Epoch 14/50\n",
      "53/53 [==============================] - 37s 692ms/step - loss: 0.4733 - accuracy: 0.7586\n",
      "Epoch 15/50\n",
      "53/53 [==============================] - 37s 694ms/step - loss: 0.4211 - accuracy: 0.7586\n",
      "Epoch 16/50\n",
      "53/53 [==============================] - 37s 701ms/step - loss: 0.3848 - accuracy: 0.7548\n",
      "Epoch 17/50\n",
      "53/53 [==============================] - 37s 697ms/step - loss: 0.3597 - accuracy: 0.7969\n",
      "Epoch 18/50\n",
      "53/53 [==============================] - 38s 719ms/step - loss: 0.3242 - accuracy: 0.8352\n",
      "Epoch 19/50\n",
      "53/53 [==============================] - 39s 735ms/step - loss: 0.3125 - accuracy: 0.8506\n",
      "Epoch 20/50\n",
      "53/53 [==============================] - 40s 750ms/step - loss: 0.2985 - accuracy: 0.8544\n",
      "Epoch 21/50\n",
      "53/53 [==============================] - 38s 724ms/step - loss: 0.3938 - accuracy: 0.7893\n",
      "Epoch 22/50\n",
      "53/53 [==============================] - 39s 728ms/step - loss: 0.3061 - accuracy: 0.8966\n",
      "Epoch 23/50\n",
      "53/53 [==============================] - 38s 712ms/step - loss: 0.2937 - accuracy: 0.8774\n",
      "Epoch 24/50\n",
      "53/53 [==============================] - 40s 745ms/step - loss: 0.3108 - accuracy: 0.9004\n",
      "Epoch 25/50\n",
      "53/53 [==============================] - 39s 726ms/step - loss: 0.3258 - accuracy: 0.8621\n",
      "Epoch 26/50\n",
      "53/53 [==============================] - 39s 742ms/step - loss: 0.2869 - accuracy: 0.8889\n",
      "Epoch 27/50\n",
      "53/53 [==============================] - 39s 727ms/step - loss: 0.2685 - accuracy: 0.8966\n",
      "Epoch 28/50\n",
      "53/53 [==============================] - 38s 720ms/step - loss: 0.2599 - accuracy: 0.8851\n",
      "Epoch 29/50\n",
      "53/53 [==============================] - 37s 691ms/step - loss: 0.2906 - accuracy: 0.8621\n",
      "Epoch 30/50\n",
      "12/53 [=====>........................] - ETA: 27s - loss: 0.3098 - accuracy: 0.8393"
     ]
    }
   ],
   "source": [
    "model.fit(dataGen.flow(features_train,target_train,batch_size=5),epochs=50)"
   ]
  },
  {
   "cell_type": "code",
   "execution_count": null,
   "id": "3bf48359",
   "metadata": {},
   "outputs": [],
   "source": [
    "model_json=model.to_json() # converted to json file\n",
    "with open(\"Wrinkle.json\",\"w\") as abc:\n",
    "    abc.write(model_json)\n",
    "    abc.close()\n",
    "model.save_weights(\"WrinkleWeights.h5\") # saving weights as hdf 5 file\n",
    "print(\"Save the Model\")"
   ]
  },
  {
   "cell_type": "code",
   "execution_count": null,
   "id": "4df653b4",
   "metadata": {},
   "outputs": [],
   "source": [
    "from keras.models import model_from_json\n",
    "json_file=open(\"Wrinkle.json\",\"r\")\n",
    "loaded_model_json=json_file.read()\n",
    "json_file.close()\n",
    "loaded_model=model_from_json(loaded_model_json)\n",
    "loaded_model.load_weights(\"WrinkleWeights.h5\")\n",
    "print(\"Loaded model successfully\")"
   ]
  },
  {
   "cell_type": "code",
   "execution_count": null,
   "id": "c389045a",
   "metadata": {},
   "outputs": [],
   "source": [
    "def getClassName(classNo):\n",
    "    if classNo == 0: return \"No Wrinkles\"\n",
    "    elif classNo == 1: return \"Wrinkled\""
   ]
  },
  {
   "cell_type": "code",
   "execution_count": null,
   "id": "dee5bc05",
   "metadata": {},
   "outputs": [],
   "source": [
    "import cv2\n",
    "image=cv2.imread('C:/Signs_of_Aging/Anthony_Fauci_2020.jpg')"
   ]
  },
  {
   "cell_type": "code",
   "execution_count": null,
   "id": "76b4952f",
   "metadata": {},
   "outputs": [],
   "source": [
    "cv2.imshow(\"Fauci\",image)\n",
    "cv2.waitKey(5000)\n",
    "cv2.destroyAllWindows()"
   ]
  },
  {
   "cell_type": "code",
   "execution_count": null,
   "id": "31e8199d",
   "metadata": {},
   "outputs": [],
   "source": [
    "face_cascade=cv2.CascadeClassifier(\"C:/xml files/haar-cascade-files-master/haarcascade_frontalface_default.xml\")"
   ]
  },
  {
   "cell_type": "code",
   "execution_count": null,
   "id": "8c100c61",
   "metadata": {},
   "outputs": [],
   "source": [
    "gray=cv2.cvtColor(image,cv2.COLOR_BGR2GRAY)\n",
    "faces=face_cascade.detectMultiScale(gray,1.05,15) # 5% reduction , iff the rectangle identifies the face 3 times\n",
    "for (x,y,w,h) in faces: # x,y->coordinates of rectangles on faces, w-> width of rectangle, h->height of rectangle\n",
    "    cv2.rectangle(image,(x,y),(x+w,y+h),(0,255,0),2)\n",
    "img=image[x:x+w,y:y+h]"
   ]
  },
  {
   "cell_type": "code",
   "execution_count": null,
   "id": "8e7297d4",
   "metadata": {},
   "outputs": [],
   "source": [
    "imagearr=cv2.resize(img,(100,100))\n",
    "imagearr=preprocessing(imagearr)\n",
    "imagearr=imagearr.reshape((1,100,100,1)) \n",
    "predictions=loaded_model.predict(imagearr)\n",
    "classIndex=loaded_model.predict_classes(imagearr)\n",
    "probValue=np.amax(predictions)\n",
    "cv2.putText(image,\"Class: \",(20,25),cv2.FONT_HERSHEY_SIMPLEX,1,(0,0,255)) \n",
    "cv2.putText(image,\"Probability: \",(20,65),cv2.FONT_HERSHEY_SIMPLEX,1,(0,0,255))\n",
    "if probValue>0.75:\n",
    "    cv2.putText(image,getClassName(classIndex),(120,25),cv2.FONT_HERSHEY_SIMPLEX,1,(0,0,255),1)\n",
    "    cv2.putText(image,str(int(probValue*100))+\" %\",(200,65),cv2.FONT_HERSHEY_SIMPLEX,1,(0,0,255),2)\n",
    "cv2.imshow(\"Model Prediction\",image)\n",
    "key=cv2.waitKey(0)\n",
    "if key==ord(\"\\r\"):\n",
    "    cv2.destroyAllWindows()"
   ]
  },
  {
   "cell_type": "code",
   "execution_count": null,
   "id": "8216ef82",
   "metadata": {},
   "outputs": [],
   "source": []
  },
  {
   "cell_type": "code",
   "execution_count": null,
   "id": "fc2e9420",
   "metadata": {},
   "outputs": [],
   "source": []
  }
 ],
 "metadata": {
  "kernelspec": {
   "display_name": "Python 3",
   "language": "python",
   "name": "python3"
  },
  "language_info": {
   "codemirror_mode": {
    "name": "ipython",
    "version": 3
   },
   "file_extension": ".py",
   "mimetype": "text/x-python",
   "name": "python",
   "nbconvert_exporter": "python",
   "pygments_lexer": "ipython3",
   "version": "3.8.8"
  }
 },
 "nbformat": 4,
 "nbformat_minor": 5
}
