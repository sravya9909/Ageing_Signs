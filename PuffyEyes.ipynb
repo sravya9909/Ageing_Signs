{
 "cells": [
  {
   "cell_type": "code",
   "execution_count": 2,
   "id": "1edaf85d",
   "metadata": {},
   "outputs": [],
   "source": [
    "import tensorflow as tf\n",
    "import pandas as pd\n",
    "import numpy as np\n",
    "import os\n",
    "import cv2"
   ]
  },
  {
   "cell_type": "code",
   "execution_count": 3,
   "id": "80065622",
   "metadata": {},
   "outputs": [],
   "source": [
    "folder_list=os.listdir(\"C:/Signs_of_Aging/PuffyEyes\")"
   ]
  },
  {
   "cell_type": "code",
   "execution_count": 4,
   "id": "f897c8e6",
   "metadata": {},
   "outputs": [
    {
     "data": {
      "text/plain": [
       "['non_puffy', 'puffy']"
      ]
     },
     "execution_count": 4,
     "metadata": {},
     "output_type": "execute_result"
    }
   ],
   "source": [
    "folder_list"
   ]
  },
  {
   "cell_type": "code",
   "execution_count": 5,
   "id": "03f654c7",
   "metadata": {},
   "outputs": [
    {
     "name": "stdout",
     "output_type": "stream",
     "text": [
      "In Folder :  non_puffy\n",
      "In Folder :  puffy\n"
     ]
    }
   ],
   "source": [
    "features_train=[]\n",
    "target_train=[]\n",
    "for folder in folder_list:\n",
    "    ImgNames_list=os.listdir(\"C:/Signs_of_Aging/PuffyEyes\"+\"/\"+folder)\n",
    "    print(\"In Folder : \",folder)\n",
    "    for imgName in ImgNames_list:\n",
    "        Imgarr=cv2.imread(\"C:/Signs_of_Aging/PuffyEyes\"+\"/\"+folder+\"/\"+imgName)\n",
    "        # there might be images of size less than 100 by 100 and so error occurs\n",
    "        try:\n",
    "            Imgarr=cv2.resize(Imgarr,(100,100))\n",
    "        except: \n",
    "            pass\n",
    "        else:\n",
    "            features_train.append(Imgarr)\n",
    "            if folder==\"non_puffy\":\n",
    "                target_train.append(0)\n",
    "            else:\n",
    "                target_train.append(1)"
   ]
  },
  {
   "cell_type": "code",
   "execution_count": 6,
   "id": "0abb64c8",
   "metadata": {},
   "outputs": [],
   "source": [
    "features_train=np.array(features_train)\n",
    "target_train=np.array(target_train)"
   ]
  },
  {
   "cell_type": "code",
   "execution_count": 7,
   "id": "282f0595",
   "metadata": {},
   "outputs": [
    {
     "data": {
      "text/plain": [
       "(329, 100, 100, 3)"
      ]
     },
     "execution_count": 7,
     "metadata": {},
     "output_type": "execute_result"
    }
   ],
   "source": [
    "features_train.shape"
   ]
  },
  {
   "cell_type": "code",
   "execution_count": 8,
   "id": "e3dc63a7",
   "metadata": {},
   "outputs": [
    {
     "data": {
      "text/plain": [
       "(329,)"
      ]
     },
     "execution_count": 8,
     "metadata": {},
     "output_type": "execute_result"
    }
   ],
   "source": [
    "target_train.shape"
   ]
  },
  {
   "cell_type": "code",
   "execution_count": 9,
   "id": "5c714a93",
   "metadata": {},
   "outputs": [
    {
     "data": {
      "text/plain": [
       "4"
      ]
     },
     "execution_count": 9,
     "metadata": {},
     "output_type": "execute_result"
    }
   ],
   "source": [
    "features_train.ndim"
   ]
  },
  {
   "cell_type": "code",
   "execution_count": 10,
   "id": "80b75cf5",
   "metadata": {},
   "outputs": [
    {
     "data": {
      "text/plain": [
       "1"
      ]
     },
     "execution_count": 10,
     "metadata": {},
     "output_type": "execute_result"
    }
   ],
   "source": [
    "target_train.ndim"
   ]
  },
  {
   "cell_type": "code",
   "execution_count": 11,
   "id": "c203a92a",
   "metadata": {},
   "outputs": [],
   "source": [
    "def preprocessing(image):\n",
    "    image=cv2.cvtColor(image,cv2.COLOR_BGR2GRAY)\n",
    "    image=image/255\n",
    "    return image"
   ]
  },
  {
   "cell_type": "code",
   "execution_count": 12,
   "id": "0bc12576",
   "metadata": {},
   "outputs": [],
   "source": [
    "features_train=np.array(list(map(preprocessing,features_train)))"
   ]
  },
  {
   "cell_type": "code",
   "execution_count": 13,
   "id": "9b5db46f",
   "metadata": {},
   "outputs": [
    {
     "data": {
      "text/plain": [
       "(329, 100, 100)"
      ]
     },
     "execution_count": 13,
     "metadata": {},
     "output_type": "execute_result"
    }
   ],
   "source": [
    "features_train.shape"
   ]
  },
  {
   "cell_type": "code",
   "execution_count": 14,
   "id": "5074b01f",
   "metadata": {},
   "outputs": [],
   "source": [
    "features_train=features_train.reshape(329, 100, 100,1)"
   ]
  },
  {
   "cell_type": "code",
   "execution_count": 15,
   "id": "1a959bb3",
   "metadata": {},
   "outputs": [],
   "source": [
    "from keras.preprocessing.image import ImageDataGenerator"
   ]
  },
  {
   "cell_type": "code",
   "execution_count": 16,
   "id": "9166ff16",
   "metadata": {},
   "outputs": [],
   "source": [
    "dataGen=ImageDataGenerator(rotation_range=10,width_shift_range=0.1,height_shift_range=0.1,zoom_range=0.2,shear_range=0.1)"
   ]
  },
  {
   "cell_type": "code",
   "execution_count": 17,
   "id": "2b99c4a3",
   "metadata": {},
   "outputs": [],
   "source": [
    "dataGen.fit(features_train)"
   ]
  },
  {
   "cell_type": "code",
   "execution_count": 18,
   "id": "2b4cc312",
   "metadata": {},
   "outputs": [],
   "source": [
    "batches=dataGen.flow(features_train,target_train,batch_size=5)"
   ]
  },
  {
   "cell_type": "code",
   "execution_count": 19,
   "id": "51ab2f8a",
   "metadata": {},
   "outputs": [
    {
     "data": {
      "text/plain": [
       "66"
      ]
     },
     "execution_count": 19,
     "metadata": {},
     "output_type": "execute_result"
    }
   ],
   "source": [
    "len(batches)"
   ]
  },
  {
   "cell_type": "code",
   "execution_count": 20,
   "id": "75ae06c1",
   "metadata": {},
   "outputs": [],
   "source": [
    "images,labels=next(batches)"
   ]
  },
  {
   "cell_type": "code",
   "execution_count": 21,
   "id": "c81a2890",
   "metadata": {},
   "outputs": [
    {
     "data": {
      "text/plain": [
       "4"
      ]
     },
     "execution_count": 21,
     "metadata": {},
     "output_type": "execute_result"
    }
   ],
   "source": [
    "images.ndim"
   ]
  },
  {
   "cell_type": "code",
   "execution_count": 22,
   "id": "4f743325",
   "metadata": {},
   "outputs": [
    {
     "data": {
      "text/plain": [
       "(5,)"
      ]
     },
     "execution_count": 22,
     "metadata": {},
     "output_type": "execute_result"
    }
   ],
   "source": [
    "labels.shape"
   ]
  },
  {
   "cell_type": "code",
   "execution_count": 23,
   "id": "d6d1bca0",
   "metadata": {},
   "outputs": [
    {
     "data": {
      "text/plain": [
       "(5, 100, 100, 1)"
      ]
     },
     "execution_count": 23,
     "metadata": {},
     "output_type": "execute_result"
    }
   ],
   "source": [
    "images.shape"
   ]
  },
  {
   "cell_type": "code",
   "execution_count": 24,
   "id": "c2138943",
   "metadata": {},
   "outputs": [],
   "source": [
    "import matplotlib.pyplot as plt"
   ]
  },
  {
   "cell_type": "code",
   "execution_count": 25,
   "id": "f364d057",
   "metadata": {},
   "outputs": [
    {
     "data": {
      "image/png": "[encoded data removed]",
      "text/plain": [
       "<Figure size 720x720 with 5 Axes>"
      ]
     },
     "metadata": {
      "needs_background": "light"
     },
     "output_type": "display_data"
    }
   ],
   "source": [
    "plt.figure(figsize=(10,10))\n",
    "for i in range(5):\n",
    "    plt.subplot(1,5,i+1)\n",
    "    plt.imshow(images[i].reshape(100,100))\n",
    "plt.show()"
   ]
  },
  {
   "cell_type": "code",
   "execution_count": 26,
   "id": "066adac5",
   "metadata": {},
   "outputs": [
    {
     "data": {
      "text/plain": [
       "(329, 100, 100, 1)"
      ]
     },
     "execution_count": 26,
     "metadata": {},
     "output_type": "execute_result"
    }
   ],
   "source": [
    "features_train.shape"
   ]
  },
  {
   "cell_type": "code",
   "execution_count": 27,
   "id": "1aebdce7",
   "metadata": {},
   "outputs": [
    {
     "data": {
      "text/plain": [
       "(329,)"
      ]
     },
     "execution_count": 27,
     "metadata": {},
     "output_type": "execute_result"
    }
   ],
   "source": [
    "target_train.shape"
   ]
  },
  {
   "cell_type": "code",
   "execution_count": 28,
   "id": "9dd9aff8",
   "metadata": {},
   "outputs": [],
   "source": [
    "from keras.utils.np_utils import to_categorical"
   ]
  },
  {
   "cell_type": "code",
   "execution_count": 29,
   "id": "a9dd6b18",
   "metadata": {},
   "outputs": [],
   "source": [
    "target_train=to_categorical(target_train)"
   ]
  },
  {
   "cell_type": "code",
   "execution_count": 30,
   "id": "f690e8f0",
   "metadata": {},
   "outputs": [
    {
     "data": {
      "text/plain": [
       "(329, 2)"
      ]
     },
     "execution_count": 30,
     "metadata": {},
     "output_type": "execute_result"
    }
   ],
   "source": [
    "target_train.shape"
   ]
  },
  {
   "cell_type": "code",
   "execution_count": 31,
   "id": "901a5c00",
   "metadata": {},
   "outputs": [],
   "source": [
    "from keras.layers import Dense,Flatten,Conv2D,MaxPooling2D,Dropout\n",
    "from keras.models import Sequential"
   ]
  },
  {
   "cell_type": "code",
   "execution_count": 32,
   "id": "dd56e402",
   "metadata": {},
   "outputs": [],
   "source": [
    "model=Sequential()\n",
    "model.add(Conv2D(120,(3,3),activation=\"relu\",input_shape=(100,100,1)))\n",
    "model.add(Conv2D(120,(3,3),activation=\"relu\"))\n",
    "model.add(MaxPooling2D(2,2))\n",
    "model.add(Conv2D(50,(3,3),activation=\"relu\"))\n",
    "model.add(Conv2D(50,(3,3),activation=\"relu\"))\n",
    "model.add(Conv2D(50,(3,3),activation=\"relu\"))\n",
    "model.add(MaxPooling2D(2,2))\n",
    "\n",
    "#model.add(Dropout(0.5)) # for overfitting model\n",
    "\n",
    "model.add(Flatten())\n",
    "model.add(Dense(500,activation=\"relu\"))\n",
    "model.add(Dense(2,activation=\"softmax\")) "
   ]
  },
  {
   "cell_type": "code",
   "execution_count": 33,
   "id": "812791cc",
   "metadata": {},
   "outputs": [],
   "source": [
    "from tensorflow.keras.optimizers import Adam"
   ]
  },
  {
   "cell_type": "code",
   "execution_count": 34,
   "id": "1333fce1",
   "metadata": {},
   "outputs": [],
   "source": [
    "model.compile(Adam(learning_rate=0.0001),loss=\"categorical_crossentropy\",metrics=[\"accuracy\"])"
   ]
  },
  {
   "cell_type": "code",
   "execution_count": 35,
   "id": "ecd898df",
   "metadata": {},
   "outputs": [
    {
     "name": "stdout",
     "output_type": "stream",
     "text": [
      "Epoch 1/50\n",
      "66/66 [==============================] - 59s 815ms/step - loss: 0.4339 - accuracy: 0.8693\n",
      "Epoch 2/50\n",
      "66/66 [==============================] - 61s 926ms/step - loss: 0.3976 - accuracy: 0.8845\n",
      "Epoch 3/50\n",
      "66/66 [==============================] - 55s 827ms/step - loss: 0.3717 - accuracy: 0.8845\n",
      "Epoch 4/50\n",
      "66/66 [==============================] - 53s 807ms/step - loss: 0.3660 - accuracy: 0.8845\n",
      "Epoch 5/50\n",
      "66/66 [==============================] - 53s 803ms/step - loss: 0.3526 - accuracy: 0.8845\n",
      "Epoch 6/50\n",
      "66/66 [==============================] - 53s 803ms/step - loss: 0.3509 - accuracy: 0.8845\n",
      "Epoch 7/50\n",
      "66/66 [==============================] - 54s 819ms/step - loss: 0.3372 - accuracy: 0.8845\n",
      "Epoch 8/50\n",
      "66/66 [==============================] - 58s 875ms/step - loss: 0.3359 - accuracy: 0.8845\n",
      "Epoch 9/50\n",
      "66/66 [==============================] - 58s 878ms/step - loss: 0.3445 - accuracy: 0.8845\n",
      "Epoch 10/50\n",
      "66/66 [==============================] - 58s 880ms/step - loss: 0.3306 - accuracy: 0.8845\n",
      "Epoch 11/50\n",
      "66/66 [==============================] - 57s 861ms/step - loss: 0.3425 - accuracy: 0.8845\n",
      "Epoch 12/50\n",
      "66/66 [==============================] - 58s 874ms/step - loss: 0.3220 - accuracy: 0.8845\n",
      "Epoch 13/50\n",
      "66/66 [==============================] - 57s 868ms/step - loss: 0.3160 - accuracy: 0.8845\n",
      "Epoch 14/50\n",
      "66/66 [==============================] - 57s 854ms/step - loss: 0.3036 - accuracy: 0.8845\n",
      "Epoch 15/50\n",
      "66/66 [==============================] - 55s 838ms/step - loss: 0.3239 - accuracy: 0.8845\n",
      "Epoch 16/50\n",
      "66/66 [==============================] - 56s 850ms/step - loss: 0.2938 - accuracy: 0.8845\n",
      "Epoch 17/50\n",
      "66/66 [==============================] - 54s 823ms/step - loss: 0.2915 - accuracy: 0.8845\n",
      "Epoch 18/50\n",
      "66/66 [==============================] - 55s 837ms/step - loss: 0.2822 - accuracy: 0.8845\n",
      "Epoch 19/50\n",
      "66/66 [==============================] - 55s 839ms/step - loss: 0.3131 - accuracy: 0.8845\n",
      "Epoch 20/50\n",
      "66/66 [==============================] - 56s 839ms/step - loss: 0.2862 - accuracy: 0.8845\n",
      "Epoch 21/50\n",
      "66/66 [==============================] - 53s 807ms/step - loss: 0.2661 - accuracy: 0.8845\n",
      "Epoch 22/50\n",
      "66/66 [==============================] - 54s 813ms/step - loss: 0.2917 - accuracy: 0.8845\n",
      "Epoch 23/50\n",
      "66/66 [==============================] - 52s 782ms/step - loss: 0.2960 - accuracy: 0.8906\n",
      "Epoch 24/50\n",
      "66/66 [==============================] - 54s 821ms/step - loss: 0.2498 - accuracy: 0.8906\n",
      "Epoch 25/50\n",
      "66/66 [==============================] - 54s 822ms/step - loss: 0.2486 - accuracy: 0.8997\n",
      "Epoch 26/50\n",
      "66/66 [==============================] - 56s 847ms/step - loss: 0.2693 - accuracy: 0.8875\n",
      "Epoch 27/50\n",
      "66/66 [==============================] - 53s 809ms/step - loss: 0.2943 - accuracy: 0.8693\n",
      "Epoch 28/50\n",
      "66/66 [==============================] - 54s 819ms/step - loss: 0.2601 - accuracy: 0.8906\n",
      "Epoch 29/50\n",
      "66/66 [==============================] - 52s 790ms/step - loss: 0.2198 - accuracy: 0.8967\n",
      "Epoch 30/50\n",
      "66/66 [==============================] - 49s 745ms/step - loss: 0.2713 - accuracy: 0.8967\n",
      "Epoch 31/50\n",
      "66/66 [==============================] - 36s 550ms/step - loss: 0.2439 - accuracy: 0.8997\n",
      "Epoch 32/50\n",
      "66/66 [==============================] - 38s 577ms/step - loss: 0.2579 - accuracy: 0.9058\n",
      "Epoch 33/50\n",
      "66/66 [==============================] - 38s 574ms/step - loss: 0.2404 - accuracy: 0.8936\n",
      "Epoch 34/50\n",
      "66/66 [==============================] - 37s 557ms/step - loss: 0.2639 - accuracy: 0.8997\n",
      "Epoch 35/50\n",
      "66/66 [==============================] - 38s 572ms/step - loss: 0.2347 - accuracy: 0.9058\n",
      "Epoch 36/50\n",
      "66/66 [==============================] - 38s 569ms/step - loss: 0.2479 - accuracy: 0.9027\n",
      "Epoch 37/50\n",
      "66/66 [==============================] - 38s 572ms/step - loss: 0.2119 - accuracy: 0.9210\n",
      "Epoch 38/50\n",
      "66/66 [==============================] - 23s 340ms/step - loss: 0.2306 - accuracy: 0.9149\n",
      "Epoch 39/50\n",
      "66/66 [==============================] - 21s 312ms/step - loss: 0.2308 - accuracy: 0.9027\n",
      "Epoch 40/50\n",
      "66/66 [==============================] - 21s 316ms/step - loss: 0.2232 - accuracy: 0.9149\n",
      "Epoch 41/50\n",
      "66/66 [==============================] - 22s 331ms/step - loss: 0.1985 - accuracy: 0.9119\n",
      "Epoch 42/50\n",
      "66/66 [==============================] - 23s 346ms/step - loss: 0.1943 - accuracy: 0.9149\n",
      "Epoch 43/50\n",
      "66/66 [==============================] - 23s 344ms/step - loss: 0.2026 - accuracy: 0.9058\n",
      "Epoch 44/50\n",
      "66/66 [==============================] - 22s 330ms/step - loss: 0.2014 - accuracy: 0.9149\n",
      "Epoch 45/50\n",
      "66/66 [==============================] - 20s 310ms/step - loss: 0.2179 - accuracy: 0.8997\n",
      "Epoch 46/50\n",
      "66/66 [==============================] - 22s 327ms/step - loss: 0.1835 - accuracy: 0.9271\n",
      "Epoch 47/50\n",
      "66/66 [==============================] - 24s 367ms/step - loss: 0.2135 - accuracy: 0.9210\n",
      "Epoch 48/50\n",
      "66/66 [==============================] - 24s 362ms/step - loss: 0.2238 - accuracy: 0.9027\n",
      "Epoch 49/50\n",
      "66/66 [==============================] - 24s 369ms/step - loss: 0.2231 - accuracy: 0.9119\n",
      "Epoch 50/50\n",
      "66/66 [==============================] - 24s 358ms/step - loss: 0.1978 - accuracy: 0.9179\n"
     ]
    },
    {
     "data": {
      "text/plain": [
       "<keras.callbacks.History at 0x16b5fd7dbe0>"
      ]
     },
     "execution_count": 35,
     "metadata": {},
     "output_type": "execute_result"
    }
   ],
   "source": [
    "model.fit(dataGen.flow(features_train,target_train,batch_size=5),epochs=50)"
   ]
  },
  {
   "cell_type": "code",
   "execution_count": 36,
   "id": "187732ed",
   "metadata": {},
   "outputs": [
    {
     "name": "stdout",
     "output_type": "stream",
     "text": [
      "Save the Model\n"
     ]
    }
   ],
   "source": [
    "model_json=model.to_json() # converted to json file\n",
    "with open(\"Puffy.json\",\"w\") as abc:\n",
    "    abc.write(model_json)\n",
    "    abc.close()\n",
    "model.save_weights(\"PuffyWeights.h5\") # saving weights as hdf 5 file\n",
    "print(\"Save the Model\")"
   ]
  },
  {
   "cell_type": "code",
   "execution_count": 37,
   "id": "3485c952",
   "metadata": {},
   "outputs": [
    {
     "name": "stdout",
     "output_type": "stream",
     "text": [
      "Loaded model successfully\n"
     ]
    }
   ],
   "source": [
    "from keras.models import model_from_json\n",
    "json_file=open(\"Puffy.json\",\"r\")\n",
    "loaded_model_json=json_file.read()\n",
    "json_file.close()\n",
    "loaded_model=model_from_json(loaded_model_json)\n",
    "loaded_model.load_weights(\"PuffyWeights.h5\")\n",
    "print(\"Loaded model successfully\")"
   ]
  },
  {
   "cell_type": "code",
   "execution_count": 38,
   "id": "c708a568",
   "metadata": {},
   "outputs": [],
   "source": [
    "def preprocessing(image):\n",
    "    image=cv2.cvtColor(image,cv2.COLOR_BGR2GRAY)\n",
    "    image=image/255\n",
    "    return image"
   ]
  },
  {
   "cell_type": "code",
   "execution_count": 39,
   "id": "34e9aeae",
   "metadata": {},
   "outputs": [],
   "source": [
    "def getClassName(classNo):\n",
    "    if classNo == 0: return \"No Puffy Eyes\"\n",
    "    elif classNo == 1: return \"Puffy Eyes\""
   ]
  },
  {
   "cell_type": "code",
   "execution_count": 40,
   "id": "065d9e17",
   "metadata": {},
   "outputs": [],
   "source": [
    "import cv2\n",
    "image=cv2.imread('C:/Signs_of_Aging/Anthony_Fauci_2020.jpg')"
   ]
  },
  {
   "cell_type": "code",
   "execution_count": 41,
   "id": "354e3909",
   "metadata": {},
   "outputs": [],
   "source": [
    "cv2.imshow(\"Fauci\",image)\n",
    "cv2.waitKey(5000)\n",
    "cv2.destroyAllWindows()"
   ]
  },
  {
   "cell_type": "code",
   "execution_count": 42,
   "id": "eff1c38c",
   "metadata": {},
   "outputs": [
    {
     "ename": "error",
     "evalue": "OpenCV(4.5.4-dev) D:\\a\\opencv-python\\opencv-python\\opencv\\modules\\objdetect\\src\\cascadedetect.cpp:1689: error: (-215:Assertion failed) !empty() in function 'cv::CascadeClassifier::detectMultiScale'\n",
     "output_type": "error",
     "traceback": [
      "\u001b[1;31m---------------------------------------------------------------------------\u001b[0m",
      "\u001b[1;31merror\u001b[0m                                     Traceback (most recent call last)",
      "\u001b[1;32m<ipython-input-42-71aa500743c1>\u001b[0m in \u001b[0;36m<module>\u001b[1;34m\u001b[0m\n\u001b[0;32m      4\u001b[0m \u001b[1;33m\u001b[0m\u001b[0m\n\u001b[0;32m      5\u001b[0m \u001b[0mgray\u001b[0m \u001b[1;33m=\u001b[0m \u001b[0mcv2\u001b[0m\u001b[1;33m.\u001b[0m\u001b[0mcvtColor\u001b[0m\u001b[1;33m(\u001b[0m\u001b[0mimage\u001b[0m\u001b[1;33m,\u001b[0m \u001b[0mcv2\u001b[0m\u001b[1;33m.\u001b[0m\u001b[0mCOLOR_BGR2GRAY\u001b[0m\u001b[1;33m)\u001b[0m\u001b[1;33m\u001b[0m\u001b[1;33m\u001b[0m\u001b[0m\n\u001b[1;32m----> 6\u001b[1;33m \u001b[0mfaces\u001b[0m \u001b[1;33m=\u001b[0m \u001b[0mface_cascade\u001b[0m\u001b[1;33m.\u001b[0m\u001b[0mdetectMultiScale\u001b[0m\u001b[1;33m(\u001b[0m\u001b[0mgray\u001b[0m\u001b[1;33m,\u001b[0m \u001b[1;36m1.3\u001b[0m\u001b[1;33m,\u001b[0m\u001b[1;36m5\u001b[0m\u001b[1;33m)\u001b[0m\u001b[1;33m\u001b[0m\u001b[1;33m\u001b[0m\u001b[0m\n\u001b[0m\u001b[0;32m      7\u001b[0m \u001b[1;33m\u001b[0m\u001b[0m\n\u001b[0;32m      8\u001b[0m \u001b[1;32mfor\u001b[0m \u001b[1;33m(\u001b[0m\u001b[0mx\u001b[0m\u001b[1;33m,\u001b[0m\u001b[0my\u001b[0m\u001b[1;33m,\u001b[0m\u001b[0mw\u001b[0m\u001b[1;33m,\u001b[0m\u001b[0mh\u001b[0m\u001b[1;33m)\u001b[0m \u001b[1;32min\u001b[0m \u001b[0mfaces\u001b[0m\u001b[1;33m:\u001b[0m\u001b[1;33m\u001b[0m\u001b[1;33m\u001b[0m\u001b[0m\n",
      "\u001b[1;31merror\u001b[0m: OpenCV(4.5.4-dev) D:\\a\\opencv-python\\opencv-python\\opencv\\modules\\objdetect\\src\\cascadedetect.cpp:1689: error: (-215:Assertion failed) !empty() in function 'cv::CascadeClassifier::detectMultiScale'\n"
     ]
    }
   ],
   "source": [
    "import numpy as np\n",
    "face_cascade=cv2.CascadeClassifier(\"C:/xml files/haar-cascade-files-master/haarcascade_frontalface_default.xml\")\n",
    "eye_cascade = cv2.CascadeClassifier(\"C:/xml files/haar-cascade-files-master/haarcascade_eye.xml\")\n",
    "\n",
    "gray = cv2.cvtColor(image, cv2.COLOR_BGR2GRAY)\n",
    "faces = face_cascade.detectMultiScale(gray, 1.3,5)\n",
    "\n",
    "for (x,y,w,h) in faces:\n",
    "    cv2.rectangle(image,(x,y),(x+w,y+h),(0,0,255),2)\n",
    "    roi_gray = image[y:y+h, x:x+w]\n",
    "    roi_color = image[y:y+h, x:x+w]\n",
    "    eyes = eye_cascade.detectMultiScale(roi_gray)\n",
    "    for (ex,ey,ew,eh) in eyes:\n",
    "        eye=roi_color[ex:ex+ew,ey:ey+eh]\n",
    "        cv2.rectangle(roi_color,(ex,ey),(ex+ew,ey+eh),(0,255,0),2)\n",
    "cv2.imshow('img',image)\n",
    "k = cv2.waitKey(10000)\n",
    "cv2.destroyAllWindows()"
   ]
  },
  {
   "cell_type": "code",
   "execution_count": null,
   "id": "db8b9328",
   "metadata": {},
   "outputs": [],
   "source": [
    "imagearr=eye"
   ]
  },
  {
   "cell_type": "code",
   "execution_count": null,
   "id": "b89ecf5b",
   "metadata": {},
   "outputs": [],
   "source": [
    "imagearr=cv2.resize(imagearr,(100,100))\n",
    "imagearr=preprocessing(imagearr)\n",
    "imagearr=imagearr.reshape((1,100,100,1)) \n",
    "predictions=loaded_model.predict(imagearr)\n",
    "classIndex=loaded_model.predict_classes(imagearr)\n",
    "probValue=np.amax(predictions)\n",
    "cv2.putText(image,\"Class: \",(20,25),cv2.FONT_HERSHEY_SIMPLEX,1,(0,0,255)) \n",
    "cv2.putText(image,\"Probability: \",(20,65),cv2.FONT_HERSHEY_SIMPLEX,1,(0,0,255))\n",
    "if probValue>0.75:\n",
    "    cv2.putText(image,getClassName(classIndex),(120,25),cv2.FONT_HERSHEY_SIMPLEX,1,(0,0,255),1)\n",
    "    cv2.putText(image,str(int(probValue*100))+\" %\",(200,65),cv2.FONT_HERSHEY_SIMPLEX,1,(0,0,255),2)\n",
    "cv2.imshow(\"Model Prediction\",image)\n",
    "key=cv2.waitKey(0)\n",
    "if key==ord(\"\\r\"):\n",
    "    cv2.destroyAllWindows()"
   ]
  },
  {
   "cell_type": "code",
   "execution_count": null,
   "id": "499dd06e",
   "metadata": {},
   "outputs": [],
   "source": []
  }
 ],
 "metadata": {
  "kernelspec": {
   "display_name": "Python 3",
   "language": "python",
   "name": "python3"
  },
  "language_info": {
   "codemirror_mode": {
    "name": "ipython",
    "version": 3
   },
   "file_extension": ".py",
   "mimetype": "text/x-python",
   "name": "python",
   "nbconvert_exporter": "python",
   "pygments_lexer": "ipython3",
   "version": "3.8.8"
  }
 },
 "nbformat": 4,
 "nbformat_minor": 5
}
