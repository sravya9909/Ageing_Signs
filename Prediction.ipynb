{
 "cells": [
  {
   "cell_type": "code",
   "execution_count": null,
   "id": "4b32d2bf",
   "metadata": {},
   "outputs": [],
   "source": [
    "import tensorflow as tf\n",
    "import pandas as pd\n",
    "import numpy as np\n",
    "import os\n",
    "import cv2"
   ]
  },
  {
   "cell_type": "code",
   "execution_count": null,
   "id": "7279c54e",
   "metadata": {},
   "outputs": [],
   "source": [
    "from keras.models import model_from_json\n",
    "json_file=open(\"Puffy.json\",\"r\")\n",
    "model_puffy_json=json_file.read()\n",
    "json_file.close()\n",
    "puffy_model=model_from_json(model_puffy_json)\n",
    "puffy_model.load_weights(\"PuffyWeights.h5\")\n",
    "print(\"Loaded puffy_model successfully\")"
   ]
  },
  {
   "cell_type": "code",
   "execution_count": null,
   "id": "e9df9bb8",
   "metadata": {},
   "outputs": [],
   "source": [
    "json_file=open(\"Wrinkle.json\",\"r\")\n",
    "model_wrinkle_json=json_file.read()\n",
    "json_file.close()\n",
    "wrinkle_model=model_from_json(model_wrinkle_json)\n",
    "wrinkle_model.load_weights(\"WrinkleWeights.h5\")\n",
    "print(\"Loaded wrinkle_model successfully\")"
   ]
  },
  {
   "cell_type": "code",
   "execution_count": null,
   "id": "975fcc76",
   "metadata": {},
   "outputs": [],
   "source": [
    "json_file=open(\"DarkSpots.json\",\"r\")\n",
    "model_DarkSpots_json=json_file.read()\n",
    "json_file.close()\n",
    "DarkSpots_model=model_from_json(model_DarkSpots_json)\n",
    "DarkSpots_model.load_weights(\"DarkSpotsWeights.h5\")\n",
    "print(\"Loaded DarkSpots_model successfully\")"
   ]
  },
  {
   "cell_type": "code",
   "execution_count": null,
   "id": "3f8423a3",
   "metadata": {},
   "outputs": [],
   "source": [
    "def getPuffyClass(classNo):\n",
    "    if classNo == 0: return \"No Puffy Eyes\"\n",
    "    elif classNo == 1: return \"Puffy Eyes\""
   ]
  },
  {
   "cell_type": "code",
   "execution_count": null,
   "id": "f0cb2cc1",
   "metadata": {},
   "outputs": [],
   "source": [
    "def getWrinkleClass(classNo):\n",
    "    if classNo == 0: return \"No Wrinkles\"\n",
    "    elif classNo == 1: return \"Wrinkled\""
   ]
  },
  {
   "cell_type": "code",
   "execution_count": null,
   "id": "c76de76c",
   "metadata": {},
   "outputs": [],
   "source": [
    "def getDarkSpotsClass(classNo):\n",
    "    if classNo == 0: return \"No Dark Spots\"\n",
    "    elif classNo == 1: return \"Dark Spots\""
   ]
  },
  {
   "cell_type": "code",
   "execution_count": null,
   "id": "ee6be811",
   "metadata": {},
   "outputs": [],
   "source": [
    "def preprocessing(image):\n",
    "    image=cv2.cvtColor(image,cv2.COLOR_BGR2GRAY)\n",
    "    image=image/255\n",
    "    return image"
   ]
  },
  {
   "cell_type": "code",
   "execution_count": null,
   "id": "7d4e6088",
   "metadata": {},
   "outputs": [],
   "source": [
    "face_cascade=cv2.CascadeClassifier(\"C:/xml files/haar-cascade-files-master/haarcascade_frontalface_default.xml\")\n",
    "eye_cascade = cv2.CascadeClassifier(\"C:/xml files/haar-cascade-files-master/haarcascade_eye.xml\")"
   ]
  },
  {
   "cell_type": "code",
   "execution_count": null,
   "id": "fc1b99ad",
   "metadata": {},
   "outputs": [],
   "source": [
    "image_path=\"C:/Signs_of_Aging/Anthony_Fauci_2020.jpg\""
   ]
  },
  {
   "cell_type": "code",
   "execution_count": null,
   "id": "64dce0d7",
   "metadata": {},
   "outputs": [],
   "source": [
    "images=[]\n",
    "test=[]\n",
    "for i in range(3):\n",
    "    images.append(cv2.imread(image_path))"
   ]
  },
  {
   "cell_type": "code",
   "execution_count": null,
   "id": "b135947a",
   "metadata": {},
   "outputs": [],
   "source": [
    "images=np.array(images)"
   ]
  },
  {
   "cell_type": "code",
   "execution_count": null,
   "id": "d59e58b3",
   "metadata": {},
   "outputs": [],
   "source": [
    "len(images)"
   ]
  },
  {
   "cell_type": "code",
   "execution_count": null,
   "id": "dda36081",
   "metadata": {},
   "outputs": [],
   "source": [
    "images.shape"
   ]
  },
  {
   "cell_type": "code",
   "execution_count": null,
   "id": "e85ca040",
   "metadata": {},
   "outputs": [],
   "source": [
    "for i in range(3):\n",
    "    test.append(cv2.cvtColor(images[i],cv2.COLOR_BGR2GRAY))    "
   ]
  },
  {
   "cell_type": "code",
   "execution_count": null,
   "id": "cb0fea39",
   "metadata": {},
   "outputs": [],
   "source": [
    "test=np.array(test)"
   ]
  },
  {
   "cell_type": "code",
   "execution_count": null,
   "id": "7a9e054f",
   "metadata": {},
   "outputs": [],
   "source": [
    "cv2.imshow(\"Fauci\",test[0])\n",
    "cv2.waitKey(5000)\n",
    "cv2.destroyAllWindows()"
   ]
  },
  {
   "cell_type": "code",
   "execution_count": null,
   "id": "45071abc",
   "metadata": {},
   "outputs": [],
   "source": [
    "faces = face_cascade.detectMultiScale(test[0],1.3,5)"
   ]
  },
  {
   "cell_type": "code",
   "execution_count": null,
   "id": "e60f1dc9",
   "metadata": {},
   "outputs": [],
   "source": [
    "# Testing for wrinkles\n",
    "for (x,y,w,h) in faces:\n",
    "    img=images[0][x:x+w,y:y+h]\n",
    "    imagearr=cv2.resize(img,(100,100))\n",
    "    imagearr=preprocessing(imagearr)\n",
    "    imagearr=imagearr.reshape((1,100,100,1)) \n",
    "    predictions=wrinkle_model.predict(imagearr)\n",
    "    classIndex=wrinkle_model.predict_classes(imagearr)\n",
    "    probValue=np.amax(predictions)\n",
    "    cv2.putText(images[0],\"Class: \",(20,25),cv2.FONT_HERSHEY_SIMPLEX,1,(0,0,255)) \n",
    "    cv2.putText(images[0],\"Probability: \",(20,65),cv2.FONT_HERSHEY_SIMPLEX,1,(0,0,255))\n",
    "    if probValue>0.75:\n",
    "        cv2.rectangle(images[0],(x,y),(x+w,y+h),(0,255,0),2)\n",
    "        cv2.putText(images[0],getWrinkleClass(classIndex),(120,25),cv2.FONT_HERSHEY_SIMPLEX,1,(0,0,255),1)\n",
    "        cv2.putText(images[0],str(int(probValue*100))+\" %\",(200,65),cv2.FONT_HERSHEY_SIMPLEX,1,(0,0,255),2)\n",
    "    cv2.imshow(\"Wrinkle Prediction\",images[0])\n",
    "    key=cv2.waitKey(0)\n",
    "    if key==ord(\"\\r\"):\n",
    "        cv2.destroyAllWindows()"
   ]
  },
  {
   "cell_type": "code",
   "execution_count": null,
   "id": "a754c1b9",
   "metadata": {},
   "outputs": [],
   "source": [
    "# Testing for puffy eyes\n",
    "for (x,y,w,h) in faces:\n",
    "    roi_gray = images[1][y:y+h, x:x+w]\n",
    "    roi_color = images[1][y:y+h, x:x+w]\n",
    "    eyes = eye_cascade.detectMultiScale(roi_gray)\n",
    "    for (ex,ey,ew,eh) in eyes:\n",
    "        eye=roi_color[ex:ex+ew,ey:ey+eh]\n",
    "        imagearr=eye\n",
    "        imagearr=cv2.resize(imagearr,(100,100))\n",
    "        imagearr=preprocessing(imagearr)\n",
    "        imagearr=imagearr.reshape((1,100,100,1)) \n",
    "        predictions=puffy_model.predict(imagearr)\n",
    "        classIndex=puffy_model.predict_classes(imagearr)\n",
    "        probValue=np.amax(predictions)\n",
    "        cv2.putText(images[1],\"Class: \",(20,25),cv2.FONT_HERSHEY_SIMPLEX,1,(0,0,255)) \n",
    "        cv2.putText(images[1],\"Probability: \",(20,65),cv2.FONT_HERSHEY_SIMPLEX,1,(0,0,255))\n",
    "        if probValue>0.75:\n",
    "            cv2.putText(images[1],getPuffyClass(classIndex),(120,25),cv2.FONT_HERSHEY_SIMPLEX,1,(0,0,255),1)\n",
    "            cv2.putText(images[1],str(int(probValue*100))+\" %\",(200,65),cv2.FONT_HERSHEY_SIMPLEX,1,(0,0,255),2)\n",
    "            for (ex,ey,ew,eh) in eyes:\n",
    "                imgarr=roi_color[ex:ex+ew,ey:ey+eh]\n",
    "                cv2.rectangle(roi_color,(ex,ey),(ex+ew,ey+eh),(0,255,0),2)  \n",
    "            break    \n",
    "    cv2.imshow(\"Puffy Eyes Prediction\",images[1])\n",
    "    key = cv2.waitKey(0)\n",
    "    if key==ord(\"\\r\"):\n",
    "        cv2.destroyAllWindows()"
   ]
  },
  {
   "cell_type": "code",
   "execution_count": null,
   "id": "cf590fce",
   "metadata": {},
   "outputs": [],
   "source": [
    "# Testing for Dark Spots\n",
    "for (x,y,w,h) in faces:\n",
    "    img=images[2][x:x+w,y:y+h]\n",
    "    imagearr=cv2.resize(img,(100,100))\n",
    "    imagearr=preprocessing(imagearr)\n",
    "    imagearr=imagearr.reshape((1,100,100,1)) \n",
    "    predictions=DarkSpots_model.predict(imagearr)\n",
    "    classIndex=DarkSpots_model.predict_classes(imagearr)\n",
    "    probValue=np.amax(predictions)\n",
    "    cv2.putText(images[2],\"Class: \",(20,25),cv2.FONT_HERSHEY_SIMPLEX,1,(0,0,255)) \n",
    "    cv2.putText(images[2],\"Probability: \",(20,65),cv2.FONT_HERSHEY_SIMPLEX,1,(0,0,255))\n",
    "    if probValue>0.75:\n",
    "        cv2.rectangle(images[2],(x,y),(x+w,y+h),(0,255,0),2)\n",
    "        cv2.putText(images[2],getDarkSpotsClass(classIndex),(120,25),cv2.FONT_HERSHEY_SIMPLEX,1,(0,0,255),1)\n",
    "        cv2.putText(images[2],str(int(probValue*100))+\" %\",(200,65),cv2.FONT_HERSHEY_SIMPLEX,1,(0,0,255),2)\n",
    "    cv2.imshow(\"Dark Spots Prediction\",images[2])\n",
    "    key=cv2.waitKey(0)\n",
    "    if key==ord(\"\\r\"):\n",
    "        cv2.destroyAllWindows()"
   ]
  },
  {
   "cell_type": "code",
   "execution_count": null,
   "id": "c63eafdd",
   "metadata": {},
   "outputs": [],
   "source": [
    "for i in range(3):\n",
    "    cv2.imshow(\"Fauci\",images[i])\n",
    "    cv2.waitKey(5000)\n",
    "    cv2.destroyAllWindows()"
   ]
  },
  {
   "cell_type": "code",
   "execution_count": null,
   "id": "7fe256dd",
   "metadata": {},
   "outputs": [],
   "source": []
  }
 ],
 "metadata": {
  "kernelspec": {
   "display_name": "Python 3",
   "language": "python",
   "name": "python3"
  },
  "language_info": {
   "codemirror_mode": {
    "name": "ipython",
    "version": 3
   },
   "file_extension": ".py",
   "mimetype": "text/x-python",
   "name": "python",
   "nbconvert_exporter": "python",
   "pygments_lexer": "ipython3",
   "version": "3.8.8"
  }
 },
 "nbformat": 4,
 "nbformat_minor": 5
}
